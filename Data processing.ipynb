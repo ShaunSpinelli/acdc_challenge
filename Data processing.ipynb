{
 "cells": [
  {
   "cell_type": "code",
   "execution_count": 2,
   "metadata": {},
   "outputs": [],
   "source": [
    "import numpy as np\n",
    "import nibabel as nib\n",
    "from pathlib import Path\n",
    "from matplotlib import pyplot as plt"
   ]
  },
  {
   "cell_type": "code",
   "execution_count": 18,
   "metadata": {},
   "outputs": [],
   "source": [
    "from tqdm import tqdm"
   ]
  },
  {
   "cell_type": "code",
   "execution_count": 3,
   "metadata": {},
   "outputs": [],
   "source": [
    "%matplotlib inline"
   ]
  },
  {
   "cell_type": "code",
   "execution_count": 4,
   "metadata": {},
   "outputs": [],
   "source": [
    "Path.ls = lambda x: [i for i in x.iterdir()]"
   ]
  },
  {
   "cell_type": "code",
   "execution_count": 49,
   "metadata": {},
   "outputs": [],
   "source": [
    "PATH = Path(\"/home/shaun/personal/acdc_challenge/data/training-raw\")"
   ]
  },
  {
   "cell_type": "code",
   "execution_count": 50,
   "metadata": {
    "scrolled": false
   },
   "outputs": [],
   "source": [
    "file_paths = [f for p in PATH.ls() for f in p.ls()] "
   ]
  },
  {
   "cell_type": "code",
   "execution_count": 51,
   "metadata": {},
   "outputs": [
    {
     "data": {
      "text/plain": [
       "[PosixPath('/home/shaun/personal/acdc_challenge/data/training-raw/patient055/Info.cfg'),\n",
       " PosixPath('/home/shaun/personal/acdc_challenge/data/training-raw/patient055/patient055_frame01.nii.gz'),\n",
       " PosixPath('/home/shaun/personal/acdc_challenge/data/training-raw/patient055/patient055_4d.nii.gz'),\n",
       " PosixPath('/home/shaun/personal/acdc_challenge/data/training-raw/patient055/patient055_frame10.nii.gz'),\n",
       " PosixPath('/home/shaun/personal/acdc_challenge/data/training-raw/patient055/patient055_frame10_gt.nii.gz')]"
      ]
     },
     "execution_count": 51,
     "metadata": {},
     "output_type": "execute_result"
    }
   ],
   "source": [
    "file_paths[:5]"
   ]
  },
  {
   "cell_type": "code",
   "execution_count": 52,
   "metadata": {},
   "outputs": [],
   "source": [
    "images_path = []\n",
    "labels_path = []\n",
    "for path in file_paths:\n",
    "    if path.suffix == \".gz\":\n",
    "        if path.stem[-6:] == \"gt.nii\":\n",
    "            labels_path.append(path)\n",
    "        elif path.stem[-6:] != \"4d.nii\":\n",
    "            images_path.append(path)"
   ]
  },
  {
   "cell_type": "code",
   "execution_count": 53,
   "metadata": {},
   "outputs": [
    {
     "data": {
      "text/plain": [
       "200"
      ]
     },
     "execution_count": 53,
     "metadata": {},
     "output_type": "execute_result"
    }
   ],
   "source": [
    "len(images_path) == len(labels_path)"
   ]
  },
  {
   "cell_type": "code",
   "execution_count": 55,
   "metadata": {},
   "outputs": [],
   "source": [
    "def to_np(file_path):\n",
    "    data = nib.load(str(file_path)).get_data()\n",
    "    h,w,s = data.shape\n",
    "    return np.reshape(data,(s,h,w))"
   ]
  },
  {
   "cell_type": "code",
   "execution_count": 71,
   "metadata": {},
   "outputs": [],
   "source": [
    "def process_frame(name, arr):\n",
    "    for i, frame in enumerate(arr):\n",
    "        path = str(name).replace(\"_gt\", \"\")+\"-\"+str(i)\n",
    "        np.save(path, frame)"
   ]
  },
  {
   "cell_type": "code",
   "execution_count": 72,
   "metadata": {},
   "outputs": [],
   "source": [
    "def process_set(files, folder): \n",
    "    for file in tqdm(files):\n",
    "        arr = to_np(file)\n",
    "        name = folder/file.stem\n",
    "        process_frame(name, arr)"
   ]
  },
  {
   "cell_type": "code",
   "execution_count": 69,
   "metadata": {
    "scrolled": false
   },
   "outputs": [
    {
     "name": "stderr",
     "output_type": "stream",
     "text": [
      "100%|██████████| 200/200 [00:02<00:00, 92.60it/s]\n"
     ]
    }
   ],
   "source": [
    "process_set(images_path, Path(\"/home/shaun/personal/acdc_challenge/data/images\"))"
   ]
  },
  {
   "cell_type": "code",
   "execution_count": 73,
   "metadata": {},
   "outputs": [
    {
     "name": "stderr",
     "output_type": "stream",
     "text": [
      "100%|██████████| 200/200 [00:00<00:00, 305.46it/s]\n"
     ]
    }
   ],
   "source": [
    "process_set(labels_path, Path(\"/home/shaun/personal/acdc_challenge/data/labels\"))"
   ]
  },
  {
   "cell_type": "code",
   "execution_count": null,
   "metadata": {},
   "outputs": [],
   "source": []
  }
 ],
 "metadata": {
  "kernelspec": {
   "display_name": "Python 3",
   "language": "python",
   "name": "python3"
  },
  "language_info": {
   "codemirror_mode": {
    "name": "ipython",
    "version": 3
   },
   "file_extension": ".py",
   "mimetype": "text/x-python",
   "name": "python",
   "nbconvert_exporter": "python",
   "pygments_lexer": "ipython3",
   "version": "3.6.8"
  }
 },
 "nbformat": 4,
 "nbformat_minor": 2
}
