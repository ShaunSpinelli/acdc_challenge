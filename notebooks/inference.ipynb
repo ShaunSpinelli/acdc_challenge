{
 "cells": [
  {
   "cell_type": "code",
   "execution_count": 1,
   "metadata": {},
   "outputs": [],
   "source": [
    "# allows to import of modules\n",
    "import os\n",
    "import sys\n",
    "nb_dir = os.path.split(os.getcwd())[0]\n",
    "nb_dir\n",
    "if nb_dir not in sys.path:\n",
    "    sys.path.append(nb_dir)"
   ]
  },
  {
   "cell_type": "code",
   "execution_count": 2,
   "metadata": {},
   "outputs": [],
   "source": [
    "from metrics_acdc import load_nii, save_nii"
   ]
  },
  {
   "cell_type": "code",
   "execution_count": 3,
   "metadata": {},
   "outputs": [],
   "source": [
    "import numpy as np\n",
    "from PIL import Image"
   ]
  },
  {
   "cell_type": "code",
   "execution_count": 4,
   "metadata": {},
   "outputs": [],
   "source": [
    "from pathlib import Path\n",
    "Path.ls = lambda x: [i for i in x.iterdir()]"
   ]
  },
  {
   "cell_type": "code",
   "execution_count": 5,
   "metadata": {},
   "outputs": [],
   "source": [
    "# Preprocess data"
   ]
  },
  {
   "cell_type": "code",
   "execution_count": 6,
   "metadata": {},
   "outputs": [],
   "source": [
    "PATH = Path(\"/home/shaun/personal/acdc_challenge/data/\")"
   ]
  },
  {
   "cell_type": "code",
   "execution_count": 7,
   "metadata": {},
   "outputs": [],
   "source": [
    "pateints_path = (PATH/\"test-raw\").ls()"
   ]
  },
  {
   "cell_type": "code",
   "execution_count": 8,
   "metadata": {},
   "outputs": [],
   "source": [
    "x = pateints_path[0]"
   ]
  },
  {
   "cell_type": "code",
   "execution_count": 9,
   "metadata": {},
   "outputs": [],
   "source": [
    "name = x.stem"
   ]
  },
  {
   "cell_type": "code",
   "execution_count": 10,
   "metadata": {},
   "outputs": [],
   "source": [
    "def get_info(patient_path):    \n",
    "    cfg = {}\n",
    "    with open(patient_path/\"Info.cfg\") as f:\n",
    "        for line in f:\n",
    "            key, val = line.strip().split(\":\")\n",
    "            val = val.strip()\n",
    "            if len(val) == 1:\n",
    "                val = \"0\"+val \n",
    "            cfg[key] = val\n",
    "\n",
    "    return cfg"
   ]
  },
  {
   "cell_type": "code",
   "execution_count": 25,
   "metadata": {},
   "outputs": [],
   "source": [
    "    def process_niib(arr, size=None):\n",
    "        frames_arr = []\n",
    "        for i in range(arr.shape[-1]):\n",
    "            frame = arr[:,:,i]\n",
    "            if size:\n",
    "                frame = np.array(Image.fromarray(frame).resize(size))[None] / 255\n",
    "            frames_arr.append(frame)\n",
    "        return torch.tensor(np.array(frames_arr).astype(np.float32))"
   ]
  },
  {
   "cell_type": "code",
   "execution_count": 12,
   "metadata": {},
   "outputs": [],
   "source": [
    "from torch.utils.data import Dataset, DataLoader"
   ]
  },
  {
   "cell_type": "code",
   "execution_count": 13,
   "metadata": {},
   "outputs": [],
   "source": [
    "import torch"
   ]
  },
  {
   "cell_type": "code",
   "execution_count": 14,
   "metadata": {},
   "outputs": [],
   "source": [
    "import nibabel as nib"
   ]
  },
  {
   "cell_type": "markdown",
   "metadata": {},
   "source": [
    "data -> inference\n",
    "trans -> saving\n",
    "shape -> reshapeing to save\n",
    "header-> saving\n",
    "file_path -> saving correct gt"
   ]
  },
  {
   "cell_type": "code",
   "execution_count": 26,
   "metadata": {},
   "outputs": [],
   "source": [
    "class InferenceDS():\n",
    "    def __init__(self, infolder, outfolder, size=256):\n",
    "        self.pateints = list(infolder.iterdir())\n",
    "        self.outfolder = outfolder\n",
    "        self.size = (size, size)\n",
    "        \n",
    "    def __len__(self):\n",
    "        return len(self.pateints)\n",
    "    \n",
    "    def build_dict(self, cfg, path, stage):\n",
    "        file_path = path/\"{}_frame{}.nii.gz\".format(path.stem, cfg[stage])\n",
    "        save_path = self.outfolder/\"{}_{}.nii.gz\".format(path.stem, stage)\n",
    "        niib_np, trans, header = load_nii(str(file_path))\n",
    "        imgs = process_niib(niib_np, self.size)\n",
    "        \n",
    "        return {\n",
    "            \"slices\" : imgs,\n",
    "            \"transform\": trans,\n",
    "            \"header\": header,\n",
    "            \"org_shape\": niib_np.shape,\n",
    "            \"save_path\":save_path\n",
    "        }\n",
    "        \n",
    "    \n",
    "    def __getitem__(self,idx):\n",
    "        patient_data = {}\n",
    "        \n",
    "        path = self.pateints[idx]\n",
    "        cfg = get_info(path)\n",
    "        \n",
    "        data_ED = self.build_dict(cfg, path, \"ED\")\n",
    "        data_ES = self.build_dict(cfg, path, \"ES\")\n",
    "        \n",
    "        patient_data[\"ED\"] = data_ED\n",
    "        patient_data[\"ES\"] = data_ES\n",
    "        \n",
    "        return patient_data"
   ]
  },
  {
   "cell_type": "code",
   "execution_count": 30,
   "metadata": {},
   "outputs": [],
   "source": [
    "pateint_ds = InferenceDS((PATH/\"test_broke\"),(PATH/\"test_predictions\"), size=256)\n"
   ]
  },
  {
   "cell_type": "code",
   "execution_count": 31,
   "metadata": {},
   "outputs": [
    {
     "data": {
      "text/plain": [
       "dict_keys(['slices', 'transform', 'header', 'org_shape', 'save_path'])"
      ]
     },
     "execution_count": 31,
     "metadata": {},
     "output_type": "execute_result"
    }
   ],
   "source": [
    "pateint_ds[0][\"ED\"].keys()"
   ]
  },
  {
   "cell_type": "code",
   "execution_count": 32,
   "metadata": {
    "scrolled": true
   },
   "outputs": [],
   "source": [
    "# pateint_ds = InferenceDS((PATH/\"test-raw\"), 256)\n",
    "# p_loader = DataLoader(pateint_ds, batch_size=1,shuffle=False)"
   ]
  },
  {
   "cell_type": "code",
   "execution_count": 19,
   "metadata": {},
   "outputs": [],
   "source": [
    "# Make Prediction"
   ]
  },
  {
   "cell_type": "code",
   "execution_count": 20,
   "metadata": {},
   "outputs": [],
   "source": [
    "import model"
   ]
  },
  {
   "cell_type": "code",
   "execution_count": null,
   "metadata": {},
   "outputs": [],
   "source": [
    "PATH"
   ]
  },
  {
   "cell_type": "code",
   "execution_count": 21,
   "metadata": {},
   "outputs": [],
   "source": [
    "check_point = PATH/\"model.pth\""
   ]
  },
  {
   "cell_type": "code",
   "execution_count": 22,
   "metadata": {
    "scrolled": true
   },
   "outputs": [
    {
     "data": {
      "text/plain": [
       "4"
      ]
     },
     "execution_count": 22,
     "metadata": {},
     "output_type": "execute_result"
    }
   ],
   "source": [
    "unet = model.ResNetUNet(4)\n",
    "unet.load_state_dict(torch.load(check_point))\n",
    "# unet = unet.float()\n",
    "# unet.cuda()\n",
    "unet.eval()\n",
    "4"
   ]
  },
  {
   "cell_type": "code",
   "execution_count": null,
   "metadata": {},
   "outputs": [],
   "source": [
    "from tqdm import tqdm"
   ]
  },
  {
   "cell_type": "code",
   "execution_count": null,
   "metadata": {},
   "outputs": [],
   "source": [
    "i = 0"
   ]
  },
  {
   "cell_type": "markdown",
   "metadata": {},
   "source": [
    "dtype=torch.float64"
   ]
  },
  {
   "cell_type": "code",
   "execution_count": 37,
   "metadata": {
    "scrolled": false
   },
   "outputs": [
    {
     "name": "stdout",
     "output_type": "stream",
     "text": [
      "torch.float32\n",
      "ed: /home/shaun/personal/acdc_challenge/data/test_predictions/patient134_ES.nii.gz\n"
     ]
    }
   ],
   "source": [
    "for pateint in pateint_ds:\n",
    "#     pateint[\"ED\"][\"slices\"]\n",
    "    ed_data = pateint[\"ED\"][\"slices\"]\n",
    "    print(ed_data.dtype)\n",
    "    es_data = pateint[\"ES\"][\"slices\"]\n",
    "    print(\"ed:\", pateint[\"ES\"][\"save_path\"])\n",
    "#     print(\"es: \", es_data.shape)\n",
    "    \n",
    "    preds_ed = unet(ed_data)\n",
    "#     die\n",
    "    \n",
    "    preds_sd = unet(es_data)\n",
    "    process_preds(pateint, preds_ed, \"ED\")\n",
    "    process_preds(pateint, preds_sd, \"ES\")\n",
    "    \n",
    "    \n",
    "    "
   ]
  },
  {
   "cell_type": "code",
   "execution_count": null,
   "metadata": {},
   "outputs": [],
   "source": [
    "final = np.argmax(preds_ed.detach().numpy(), axis=1)"
   ]
  },
  {
   "cell_type": "code",
   "execution_count": null,
   "metadata": {},
   "outputs": [],
   "source": [
    "import matplotlib.pyplot as plt"
   ]
  },
  {
   "cell_type": "code",
   "execution_count": null,
   "metadata": {},
   "outputs": [],
   "source": [
    "plt.imshow(final[4])"
   ]
  },
  {
   "cell_type": "code",
   "execution_count": null,
   "metadata": {},
   "outputs": [],
   "source": [
    "# Save Predictions"
   ]
  },
  {
   "cell_type": "code",
   "execution_count": null,
   "metadata": {},
   "outputs": [],
   "source": [
    "import nibabel as nib\n"
   ]
  },
  {
   "cell_type": "code",
   "execution_count": 36,
   "metadata": {},
   "outputs": [],
   "source": [
    "def process_preds(pateint, preds, stage):\n",
    "    \n",
    "    final = np.argmax(preds.detach().numpy(), axis=1)\n",
    "    \n",
    "    h,w,b = pateint[stage][\"org_shape\"]\n",
    "    \n",
    "    final_arr = []\n",
    "    for im in final:\n",
    "        x = np.array(Image.fromarray(im.astype(np.uint8)).resize((w,h)))\n",
    "        final_arr.append(x)\n",
    "\n",
    "    final_arr = np.array(final_arr)\n",
    "    tmp = np.zeros(pateint[stage][\"org_shape\"])\n",
    "    for i in range(b):\n",
    "        tmp[:,:,i] = final_arr[i]\n",
    "    \n",
    "#     f = final_arr.reshape(pateint[stage][\"org_shape\"])\n",
    "\n",
    "    nimg = nib.Nifti1Image(tmp, affine=pateint[stage][\"transform\"], header=pateint[stage][\"header\"])\n",
    "    nimg.to_filename(str(pateint[stage][\"save_path\"]))"
   ]
  },
  {
   "cell_type": "code",
   "execution_count": null,
   "metadata": {},
   "outputs": [],
   "source": [
    "final = np.argmax(preds_ed.detach().numpy(), axis=1)"
   ]
  },
  {
   "cell_type": "code",
   "execution_count": null,
   "metadata": {},
   "outputs": [],
   "source": [
    "h,w,b = pateint[\"ED\"][\"org_shape\"]\n",
    "    \n",
    "final_arr = []\n",
    "for im in final:\n",
    "    x = np.array(Image.fromarray(im.astype(np.uint8)).resize((w,h)))\n",
    "    final_arr.append(x)\n",
    "final_arr =  np.array(final_arr)"
   ]
  },
  {
   "cell_type": "code",
   "execution_count": null,
   "metadata": {
    "scrolled": true
   },
   "outputs": [],
   "source": [
    "final_arr.shape"
   ]
  },
  {
   "cell_type": "code",
   "execution_count": null,
   "metadata": {},
   "outputs": [],
   "source": [
    "reshpe = final_arr.reshape(pateint[\"ED\"][\"org_shape\"])"
   ]
  },
  {
   "cell_type": "code",
   "execution_count": null,
   "metadata": {},
   "outputs": [],
   "source": [
    "tmp = np.zeros(pateint[\"ED\"][\"org_shape\"])"
   ]
  },
  {
   "cell_type": "code",
   "execution_count": null,
   "metadata": {},
   "outputs": [],
   "source": [
    "for i in range(9):\n",
    "    tmp[:,:,i] = final_arr[i]"
   ]
  },
  {
   "cell_type": "code",
   "execution_count": null,
   "metadata": {},
   "outputs": [],
   "source": [
    "tmp.shape"
   ]
  },
  {
   "cell_type": "code",
   "execution_count": null,
   "metadata": {},
   "outputs": [],
   "source": [
    "reshpe = final_arr.reshape()"
   ]
  },
  {
   "cell_type": "code",
   "execution_count": null,
   "metadata": {
    "scrolled": true
   },
   "outputs": [],
   "source": [
    "reshpe.shape"
   ]
  },
  {
   "cell_type": "code",
   "execution_count": null,
   "metadata": {},
   "outputs": [],
   "source": [
    "reshpe[:,:,5].shape"
   ]
  },
  {
   "cell_type": "code",
   "execution_count": null,
   "metadata": {},
   "outputs": [],
   "source": [
    "plt.imshow(tmp[:,:,3])"
   ]
  },
  {
   "cell_type": "code",
   "execution_count": null,
   "metadata": {},
   "outputs": [],
   "source": []
  }
 ],
 "metadata": {
  "kernelspec": {
   "display_name": "Python 3",
   "language": "python",
   "name": "python3"
  },
  "language_info": {
   "codemirror_mode": {
    "name": "ipython",
    "version": 3
   },
   "file_extension": ".py",
   "mimetype": "text/x-python",
   "name": "python",
   "nbconvert_exporter": "python",
   "pygments_lexer": "ipython3",
   "version": "3.6.8"
  }
 },
 "nbformat": 4,
 "nbformat_minor": 2
}
